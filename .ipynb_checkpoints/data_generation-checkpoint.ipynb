{
 "cells": [
  {
   "cell_type": "markdown",
   "metadata": {},
   "source": [
    "For this notebook, I'll be using the GPT-2 package from this Google Colab notebook. For that, I need an older version of tensorflow, so I'll install that here:"
   ]
  },
  {
   "cell_type": "code",
   "execution_count": 1,
   "metadata": {},
   "outputs": [
    {
     "name": "stdout",
     "output_type": "stream",
     "text": [
      "WARNING:tensorflow:\n",
      "The TensorFlow contrib module will not be included in TensorFlow 2.0.\n",
      "For more information, please see:\n",
      "  * https://github.com/tensorflow/community/blob/master/rfcs/20180907-contrib-sunset.md\n",
      "  * https://github.com/tensorflow/addons\n",
      "  * https://github.com/tensorflow/io (for I/O related ops)\n",
      "If you depend on functionality not listed there, please file an issue.\n",
      "\n"
     ]
    }
   ],
   "source": [
    "import gpt_2_simple as gpt2\n",
    "from datetime import datetime"
   ]
  },
  {
   "cell_type": "code",
   "execution_count": 2,
   "metadata": {},
   "outputs": [],
   "source": [
    "file_name = 'out.txt'"
   ]
  },
  {
   "cell_type": "code",
   "execution_count": 3,
   "metadata": {},
   "outputs": [
    {
     "name": "stdout",
     "output_type": "stream",
     "text": [
      "Loading checkpoint checkpoint/run4/model-1000\n",
      "INFO:tensorflow:Restoring parameters from checkpoint/run4/model-1000\n"
     ]
    }
   ],
   "source": [
    "sess = gpt2.start_tf_sess()\n",
    "gpt2.load_gpt2(sess, run_name = 'run4')"
   ]
  },
  {
   "cell_type": "code",
   "execution_count": 4,
   "metadata": {},
   "outputs": [
    {
     "name": "stdout",
     "output_type": "stream",
     "text": [
      "The day was Sunday, April 27th, 1805. New York was full, and she wasgoing to be back before she had time to reflect over the unfortunate state of her body. OnMonday morning she was sitting alone in her room at her Mr. J.'s, in theatrium, as Mrs. Bargrave had told her, when an urgent inquiry was made to her, \"Why are you here?\"\"Because I have a New York.\" She tearoped up, and sat down. . . .       *       *       *       *       *       *She began to speak, and turned her voice up to quite a distance, towards the gate of her mother's house, which is near Oxford Street.       *      *      *      *It was probably her mother's mother's day. She was in such good spirits that shewearied of work, and was not in good spirits, for her brother, APhertisse, the owner of the house, who wasknown to the woman, and her mother, APhertisse, who was barely eight, all of her friends and acquaintances situated there, anda large and lively crowd of people about her who were yearlysurroundingthe place. But she did not come without one favor: the _dilapidated_ house was the place to be seen.There were poor Mrs. Wessington's friends and familiars present, and a very visible andrespecting presence was make over the dull, weary, and dying Mrs. Wessington, who was dying ofgastritis, her heart was violently beating, and her limbs were as limp as deadpeople's. The poor woman was constantly wailing and trembling, and sobbing.       *       *      *      *      *A quarter of an hour later she appeared again at the bottom of the lawn,dressed as before, her wet hair already drying into its crisp shortcurls again. There was alittle dust in her hand,and a large quantity of it foul.And when she turned her face toward thenearby window she saw again the same woman, but much frightened, expression more grave. She had not followed her brother come nor paused for a moment to light a candle. Instead of rejoicing at the unexpected visitor, she was morefaced with horror at the absence of the old, and felt at home the sense of dread that had been compounded by the absence of evil. And now, in spite of the absence ofevil, there was also a sense of joy. For the dead were gone, and the world was new and new again. A new sense of belonging and of flourishing in life was one of rejoicing and happiness were the rewards presented to those who had enjoyed so long in life.A new sense of belonging and of flourishing in life were three times as delightful a experience! For life, you know, it is well that a girl attends school in astadium filled with high school and college teams, and in spite of the fact that her team was from a very distinguished school, she was expected to dance and playforever. Well, that was _quite_ a task, and she *       *      *      *      *      *It was a girl of very impressive body, and one that we could hardly have told hadshe been a girl. Her dress was that of a young king, the sleeves rolled up, and the midsummer star slung over the shoulders. In her hand she heldletters, in her hand parchment-like, with the words, \"I grant it, my dear reader, to be signed 'V-ere-neur,' \" and in her left hand she heldletters, as if she herself had signed them. All of them had sudden, wrinkled corners, and said nothing. They were signed, literally, 'V-ere-neur.'\"And when did you get them to do that?\" asked Dear Jones.\"I don't know. I kept thinking it over, and came to the obvious solution. I said to my friend, 'Now, who is to be foundesleep?'' It would be hard to find one soul in the world that didn't want to be found empty-handed.'\"Dear Jones was an honest man, and would scorn to invent a merry jest onthe spur of the moment.\"That's where my trap is,\" said Dear Jones, \"and the more I get away at it the more I find myself in a state of continualmotion. I can't even keep a straight face. I can't tell when a letter has\n"
     ]
    }
   ],
   "source": [
    "gpt2.generate(sess, run_name = 'run4')"
   ]
  },
  {
   "cell_type": "markdown",
   "metadata": {},
   "source": [
    "Haahaha, well, some of that makes sense! Some of it even mentions ghosts! It certainly "
   ]
  }
 ],
 "metadata": {
  "kernelspec": {
   "display_name": "Python 3",
   "language": "python",
   "name": "python3"
  },
  "language_info": {
   "codemirror_mode": {
    "name": "ipython",
    "version": 3
   },
   "file_extension": ".py",
   "mimetype": "text/x-python",
   "name": "python",
   "nbconvert_exporter": "python",
   "pygments_lexer": "ipython3",
   "version": "3.6.12"
  }
 },
 "nbformat": 4,
 "nbformat_minor": 4
}
