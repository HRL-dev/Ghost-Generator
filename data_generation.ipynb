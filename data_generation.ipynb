{
 "cells": [
  {
   "cell_type": "markdown",
   "metadata": {},
   "source": [
    "For this notebook, I'll be using the GPT-2 wrapper [gpt-2-simple](https://pypi.org/project/gpt-2-simple/) and [this Google Colab notebook](https://colab.research.google.com/drive/1VLG8e7YSEwypxU-noRNhsv5dW4NfTGce), designed by Max Woolf, to generate ghost stories. In order to generate something that looks like a classic ghost story, I need to go beyond RNNs, and even beyond BERT, right up to the transformers. I don't have access to the cutting-edge technology of GPT-3, but GPT-2 will suit my needs just fine!"
   ]
  },
  {
   "cell_type": "markdown",
   "metadata": {},
   "source": [
    "Be aware that in order for this package to run, you need to be running tensorflow 1.15.1 or earlier, which can only be done with Python 3.6 or earlier."
   ]
  },
  {
   "cell_type": "markdown",
   "metadata": {},
   "source": [
    "Let's import that package:"
   ]
  },
  {
   "cell_type": "code",
   "execution_count": 1,
   "metadata": {},
   "outputs": [
    {
     "name": "stdout",
     "output_type": "stream",
     "text": [
      "WARNING:tensorflow:\n",
      "The TensorFlow contrib module will not be included in TensorFlow 2.0.\n",
      "For more information, please see:\n",
      "  * https://github.com/tensorflow/community/blob/master/rfcs/20180907-contrib-sunset.md\n",
      "  * https://github.com/tensorflow/addons\n",
      "  * https://github.com/tensorflow/io (for I/O related ops)\n",
      "If you depend on functionality not listed there, please file an issue.\n",
      "\n"
     ]
    }
   ],
   "source": [
    "import gpt_2_simple as gpt2\n",
    "from datetime import datetime"
   ]
  },
  {
   "cell_type": "markdown",
   "metadata": {},
   "source": [
    "I trained the model in the Colab notebook, because I don't have a GPU and training such a large model would probably have crashed my entire computer. [Here](https://colab.research.google.com/drive/15GRVITueaioyFBgEpgmKDZ0X8uQS8Jnc#scrollTo=qQJgV_b4bmzd) is the link to my copy of the notebook, with my text file input and the resulting training data."
   ]
  },
  {
   "cell_type": "markdown",
   "metadata": {},
   "source": [
    "Now, I'll load in the trained model created in the notebook and use that to generate text."
   ]
  },
  {
   "cell_type": "code",
   "execution_count": 2,
   "metadata": {},
   "outputs": [
    {
     "name": "stdout",
     "output_type": "stream",
     "text": [
      "Loading checkpoint checkpoint/run5/model-1000\n",
      "INFO:tensorflow:Restoring parameters from checkpoint/run5/model-1000\n"
     ]
    }
   ],
   "source": [
    "sess = gpt2.start_tf_sess()\n",
    "gpt2.load_gpt2(sess, run_name = 'run5')"
   ]
  },
  {
   "cell_type": "code",
   "execution_count": 3,
   "metadata": {},
   "outputs": [
    {
     "name": "stdout",
     "output_type": "stream",
     "text": [
      "The first test of the new American spirit was laid by the fell angel. The angel appeared to be a woman, but in her mind there was one belief, another another, and another, too, which were contrary to another's. She saw that there was one eternal God, one begotten of the Father and the Son and the Holy Ghost, and that there were also two that were identical, but distinctively.  This idea persisted in every tongue out of Italy, and into every house of God. Fuelled by pious discourse she produced to herself the most pious and venerable brother she could find. She laid hands on him, and with tenderness said to him:  \"You are the wife of your husband; don't you think he will think of anything to frighten you?\" or \"I,\" interrupted Frank, with a wavering smile, \"I think we have it covered, we know what's in it. It will make a man horny for a month, and that's just what it is.\"  Close to his ear the figure disappeared, reappearing in the red velvet of the arms. He took in a deep breath and turned over the ark.  \"You've seen his face before,\" he said. \"He is about to publish in the Sunday Review, and you may tune in whenever you like.\"  The Sunday Review was Saturday. It was a Sunday afternoon, the first day of the month, and the most curious of the twelve months. The very architecture of the book-shop, the saloon after the theater, and the gallery filled with the things that amused, puzzled, and terrified the young man. He sat up straight in his chair, and with that an uncertain look came over his head. It was a mark of good fortune, he decided, that he had not slept for a week. After a pause, he explained:  \"I mean to sleep through on Saturday, my first night since I awoke. As you know, I was dreaming. I was very wrong. I managed to wake up the man; he was up by himself. He was up most of the day, and between the two performances of The Tempest he was the only one that was apart from the other.  \"He was alone in the room with the book; he was not talking or writing; he was not looking. He thought that if he were going to make a discovery he was going to have to do this one detail at a time.  \"He opened the book and looked round the table. No book in sight. No wonder the book-trotters were giddy with delight. They had seen Elihu Osborn alone for the book. And they thought: He's up.'  \"They were right. He was alone in the room with the book; he was not looking. He turned his attention to the remainder of the table, and said:  'Eliphalet followed me,' and he lit a candle. 'Here were the keys of the house, and here were the lighthouses.'  \"'Undoubtedly,' returned the rabbi, with a smile. 'They were in the book, and they were at the house alone. No man 's a mystery.'  \"The rabbi paused on the third and final day of his confinement. He laid out on flat-screen a reconstruction of the Capitol, the walls redolent of the Salem period, and wrote with a waxen hand. Subsequently he went to Frankfort, a town near here, and, after four days' hard labor, was content with his abode.  \"I sat down here in the hammock for the first time, and prepared to reflect on some of the past weeks.\"  \"The past weeks?\" asked Baby Van Rensselaer, with a mixture of irritation and horror. \"The prologue to the next chapter. You know, the good people of Springfield put up with a lot of trouble, and we were running a bad print in the Book of Manners. So we made plans and tried to keep it in. But in the meantime you don't what to put in a book? I know you've got a pen and paper, but pen and paper don't do anything. It just says 'this is what I will do.' \"  \"I don't write,\" said Uncle Larry, calmly. \"I write what I like. I like old-fashioned things, you know. That's what I tried to teach you this week. And it worked, and it's just as with you as with me.\"  \"Possibilities,\" said Dear Jones, \"while yin and yang are rung up in the ring, and I'm the ring-taker and the ring-taker's influence is tousled hair and eye and clothes. Try it and do it yourself, my dear fellow; and don't think I'm going to be a ring-taker for ever. I've got a hundred tricks up my sleeves and a hundred pounds of brass in my pocket.\n"
     ]
    }
   ],
   "source": [
    "gpt2.generate(sess, run_name = 'run5')"
   ]
  },
  {
   "cell_type": "markdown",
   "metadata": {},
   "source": [
    "Haahaha, well, some of that makes sense! Some of it even mentions ghosts! It certainly resembles the writing style of the classic ghost stories of the 18th, 19th, and early-20th century that I used to fine-tune the pre-trained model. My computer is preaching at me! Awesome. Let's do it again and save the results this time."
   ]
  },
  {
   "cell_type": "code",
   "execution_count": 5,
   "metadata": {},
   "outputs": [],
   "source": [
    "story_1 = gpt2.generate(sess, run_name = 'run5', return_as_list = True)"
   ]
  },
  {
   "cell_type": "code",
   "execution_count": 6,
   "metadata": {},
   "outputs": [
    {
     "name": "stdout",
     "output_type": "stream",
     "text": [
      "Both are from the Northern Territory. They were both murdered in their sleep. There was no watchmen on duty at the time, and the boys had no nightscreens.  The corpses of the two policemen were moved to a small dark room in the back of the house, to be moved a cold dark from the night before.  The bushes outside the window seemed to be turned down, and the drywall, to which the ghostly clouds dragged in, with their hint of the decay of the fir tree, was hauled up into the sky.  Ghosts are not unheard of in our tales. The Creeks, the red Indians, the Bayswater and the Ross-Lewins all developed the habit of emitting fainter shades of the same ghost after the closing stages of the year. It was the Ross-Lewins that began the spook-tale spook-tale.  The disappearance of the old ghost in the middle of the night is one of the most curious features of the whole affair. The Ross-Lewins were missing for several years, and in the year from the time of his disappearance the Ross-Lewins had disappeared, with the exception of a brief interval when the ghost was in the possession of a New York lawyer named Prescott. His disappearance had been one of the most curious and captivating features of the year, and it naturally drew the attention of the world to the mystery. On the whole, the ghost was lessening the anxiety of the owner of the house; it was merely that Prescott's house was more eerie.  The disappearance of the Ross-Lewin also removedeiable feature to the foreshadowing of the following story. In the first place, the ghost was real. It was, of course, drawn on to the family ghost, as is well known, but the ghost was a phantom of the actual ghost, and was not attached to the house ghost, the River Styx. In all, the ghostly assistance of a spook was rendered in all probabilities by the tenant of the actual ghost, and the tenant was, in truth, the victim of a curse, a curse that had no existence of its own. But how very strange was the appearance of the phantom 'rickshaw, to prevent the contrary story being spread among my party. Before the middle of the night, when the door was opened a gloom fell upon the party, and from it fell, like the fall of a heavy cloud, all the other phenomena of the night committed.  Upon leaving New York, I went in company with a guide-man to the remote town of Papakura. It was a hell of a trip through there, and one-fourth the road was filled with cars and bunks of all kinds, many of which were impounded from going over the crest of the cliff. I stopped at a rubber-stamp stand-off, and when a voice told me that a rival was trying to break away into the town, I turned my attention to the rival and made a preponderance of my observations on the road.  The voice was strong in my ears, and as I approached the village I saw the crest of a blue hill, and knew that the 'rickshaw and the golden head of state it belonged to were about to form a new junction in the 'rickshaw-tourism wave. I had reached the point at which the eyes of the 'rickshaw and the golden head of state had begun to gleam before me, and I made no more of an effort to follow the rival. I made no more ado; and in the very seat between the golden head of the 'rickshaw and the well-trimmed red carpet, I saw 'Turus, the wraith of the Duncans and wife of Lord Henderson. I singled out him, felt his pulse, and got out into the open road. In the time allotted I was able to survey the number of people present, and, when I reached the home of the lady, I was confronted with the full-blown story of a 'rickshaw-tourism 'isfair. I rang the shopkeeper, and got word that a large glass jug was secure in the front of the 'rickshaw. In my pocket was the book entitled 'On the Investigation and Test of the Mysterious 'Lily-Man. . . . '  I then turned to the guide-man and asked him whether there were any books in the cabinet. He said, they were not in the cabinet; but told me that they looked like \"portions of an egg\" on the table; and that they looked exactly like an egg, but with more small pieces. I then turned to the car, and asked the man if there were any books in the cabinet. He said, they looked like \"venomous\" eggs, but with a little more effort than was usual in egg-making. I then had a short conversation with the man, which resulted in him calling to my attention the matter at hand. He, on the\n"
     ]
    }
   ],
   "source": [
    "print(story_1[0])"
   ]
  },
  {
   "cell_type": "code",
   "execution_count": null,
   "metadata": {},
   "outputs": [],
   "source": []
  }
 ],
 "metadata": {
  "kernelspec": {
   "display_name": "Python 3",
   "language": "python",
   "name": "python3"
  },
  "language_info": {
   "codemirror_mode": {
    "name": "ipython",
    "version": 3
   },
   "file_extension": ".py",
   "mimetype": "text/x-python",
   "name": "python",
   "nbconvert_exporter": "python",
   "pygments_lexer": "ipython3",
   "version": "3.6.12"
  }
 },
 "nbformat": 4,
 "nbformat_minor": 4
}
