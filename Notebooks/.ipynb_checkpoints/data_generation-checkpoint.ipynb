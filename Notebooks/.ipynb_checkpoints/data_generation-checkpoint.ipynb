{
 "cells": [
  {
   "cell_type": "markdown",
   "metadata": {},
   "source": [
    "For this notebook, I'll be using the GPT-2 wrapper [gpt-2-simple](https://pypi.org/project/gpt-2-simple/) and [this Google Colab notebook](https://colab.research.google.com/drive/1VLG8e7YSEwypxU-noRNhsv5dW4NfTGce), designed by Max Woolf, to generate ghost stories. In order to generate something that looks like a classic ghost story, I need to go beyond RNNs, and even beyond BERT, right up to the transformers. I don't have access to the cutting-edge technology of GPT-3, but GPT-2 will suit my needs just fine!"
   ]
  },
  {
   "cell_type": "markdown",
   "metadata": {},
   "source": [
    "Be aware that in order for this package to run, you need to be running tensorflow 1.15.1 or earlier, which can only be done with Python 3.6 or earlier."
   ]
  },
  {
   "cell_type": "markdown",
   "metadata": {},
   "source": [
    "Let's import that package:"
   ]
  },
  {
   "cell_type": "code",
   "execution_count": 2,
   "metadata": {},
   "outputs": [
    {
     "ename": "ModuleNotFoundError",
     "evalue": "No module named 'tensorflow.contrib'",
     "output_type": "error",
     "traceback": [
      "\u001b[0;31m---------------------------------------------------------------------------\u001b[0m",
      "\u001b[0;31mModuleNotFoundError\u001b[0m                       Traceback (most recent call last)",
      "\u001b[0;32m<ipython-input-2-1f696ab93010>\u001b[0m in \u001b[0;36m<module>\u001b[0;34m\u001b[0m\n\u001b[0;32m----> 1\u001b[0;31m \u001b[0;32mimport\u001b[0m \u001b[0mgpt_2_simple\u001b[0m \u001b[0;32mas\u001b[0m \u001b[0mgpt2\u001b[0m\u001b[0;34m\u001b[0m\u001b[0;34m\u001b[0m\u001b[0m\n\u001b[0m\u001b[1;32m      2\u001b[0m \u001b[0;32mfrom\u001b[0m \u001b[0mdatetime\u001b[0m \u001b[0;32mimport\u001b[0m \u001b[0mdatetime\u001b[0m\u001b[0;34m\u001b[0m\u001b[0;34m\u001b[0m\u001b[0m\n",
      "\u001b[0;32m~/opt/anaconda3/lib/python3.8/site-packages/gpt_2_simple/__init__.py\u001b[0m in \u001b[0;36m<module>\u001b[0;34m\u001b[0m\n\u001b[0;32m----> 1\u001b[0;31m \u001b[0;32mfrom\u001b[0m \u001b[0;34m.\u001b[0m\u001b[0mgpt_2\u001b[0m \u001b[0;32mimport\u001b[0m \u001b[0;34m*\u001b[0m\u001b[0;34m\u001b[0m\u001b[0;34m\u001b[0m\u001b[0m\n\u001b[0m",
      "\u001b[0;32m~/opt/anaconda3/lib/python3.8/site-packages/gpt_2_simple/gpt_2.py\u001b[0m in \u001b[0;36m<module>\u001b[0;34m\u001b[0m\n\u001b[1;32m     22\u001b[0m     \u001b[0;32mpass\u001b[0m\u001b[0;34m\u001b[0m\u001b[0;34m\u001b[0m\u001b[0m\n\u001b[1;32m     23\u001b[0m \u001b[0;34m\u001b[0m\u001b[0m\n\u001b[0;32m---> 24\u001b[0;31m \u001b[0;32mfrom\u001b[0m \u001b[0mgpt_2_simple\u001b[0m\u001b[0;34m.\u001b[0m\u001b[0msrc\u001b[0m \u001b[0;32mimport\u001b[0m \u001b[0mmodel\u001b[0m\u001b[0;34m,\u001b[0m \u001b[0msample\u001b[0m\u001b[0;34m,\u001b[0m \u001b[0mencoder\u001b[0m\u001b[0;34m,\u001b[0m \u001b[0mmemory_saving_gradients\u001b[0m\u001b[0;34m\u001b[0m\u001b[0;34m\u001b[0m\u001b[0m\n\u001b[0m\u001b[1;32m     25\u001b[0m \u001b[0;32mfrom\u001b[0m \u001b[0mgpt_2_simple\u001b[0m\u001b[0;34m.\u001b[0m\u001b[0msrc\u001b[0m\u001b[0;34m.\u001b[0m\u001b[0mload_dataset\u001b[0m \u001b[0;32mimport\u001b[0m \u001b[0mload_dataset\u001b[0m\u001b[0;34m,\u001b[0m \u001b[0mSampler\u001b[0m\u001b[0;34m\u001b[0m\u001b[0;34m\u001b[0m\u001b[0m\n\u001b[1;32m     26\u001b[0m \u001b[0;32mfrom\u001b[0m \u001b[0mgpt_2_simple\u001b[0m\u001b[0;34m.\u001b[0m\u001b[0msrc\u001b[0m\u001b[0;34m.\u001b[0m\u001b[0maccumulate\u001b[0m \u001b[0;32mimport\u001b[0m \u001b[0mAccumulatingOptimizer\u001b[0m\u001b[0;34m\u001b[0m\u001b[0;34m\u001b[0m\u001b[0m\n",
      "\u001b[0;32m~/opt/anaconda3/lib/python3.8/site-packages/gpt_2_simple/src/memory_saving_gradients.py\u001b[0m in \u001b[0;36m<module>\u001b[0;34m\u001b[0m\n\u001b[1;32m      3\u001b[0m \u001b[0;32mimport\u001b[0m \u001b[0mnumpy\u001b[0m \u001b[0;32mas\u001b[0m \u001b[0mnp\u001b[0m\u001b[0;34m\u001b[0m\u001b[0;34m\u001b[0m\u001b[0m\n\u001b[1;32m      4\u001b[0m \u001b[0;32mimport\u001b[0m \u001b[0mtensorflow\u001b[0m \u001b[0;32mas\u001b[0m \u001b[0mtf\u001b[0m\u001b[0;34m\u001b[0m\u001b[0;34m\u001b[0m\u001b[0m\n\u001b[0;32m----> 5\u001b[0;31m \u001b[0;32mimport\u001b[0m \u001b[0mtensorflow\u001b[0m\u001b[0;34m.\u001b[0m\u001b[0mcontrib\u001b[0m\u001b[0;34m.\u001b[0m\u001b[0mgraph_editor\u001b[0m \u001b[0;32mas\u001b[0m \u001b[0mge\u001b[0m\u001b[0;34m\u001b[0m\u001b[0;34m\u001b[0m\u001b[0m\n\u001b[0m\u001b[1;32m      6\u001b[0m \u001b[0;32mimport\u001b[0m \u001b[0mtime\u001b[0m\u001b[0;34m\u001b[0m\u001b[0;34m\u001b[0m\u001b[0m\n\u001b[1;32m      7\u001b[0m \u001b[0;32mimport\u001b[0m \u001b[0msys\u001b[0m\u001b[0;34m\u001b[0m\u001b[0;34m\u001b[0m\u001b[0m\n",
      "\u001b[0;31mModuleNotFoundError\u001b[0m: No module named 'tensorflow.contrib'"
     ]
    }
   ],
   "source": [
    "import gpt_2_simple as gpt2\n",
    "from datetime import datetime"
   ]
  },
  {
   "cell_type": "markdown",
   "metadata": {},
   "source": [
    "I trained the model in the Colab notebook, because I don't have a GPU and training such a large model would probably have crashed my entire computer. [Here](https://colab.research.google.com/drive/15GRVITueaioyFBgEpgmKDZ0X8uQS8Jnc#scrollTo=qQJgV_b4bmzd) is the link to my copy of the notebook, with my text file input and the resulting training data."
   ]
  },
  {
   "cell_type": "markdown",
   "metadata": {},
   "source": [
    "Now, I'll load in the trained model created in the notebook and use that to generate text."
   ]
  },
  {
   "cell_type": "code",
   "execution_count": 3,
   "metadata": {},
   "outputs": [
    {
     "name": "stdout",
     "output_type": "stream",
     "text": [
      "Loading checkpoint checkpoint/run4/model-1000\n",
      "INFO:tensorflow:Restoring parameters from checkpoint/run4/model-1000\n"
     ]
    }
   ],
   "source": [
    "sess = gpt2.start_tf_sess()\n",
    "gpt2.load_gpt2(sess, run_name = 'run4')"
   ]
  },
  {
   "cell_type": "code",
   "execution_count": 4,
   "metadata": {},
   "outputs": [
    {
     "name": "stdout",
     "output_type": "stream",
     "text": [
      "The day was Sunday, April 27th, 1805. New York was full, and she wasgoing to be back before she had time to reflect over the unfortunate state of her body. OnMonday morning she was sitting alone in her room at her Mr. J.'s, in theatrium, as Mrs. Bargrave had told her, when an urgent inquiry was made to her, \"Why are you here?\"\"Because I have a New York.\" She tearoped up, and sat down. . . .       *       *       *       *       *       *She began to speak, and turned her voice up to quite a distance, towards the gate of her mother's house, which is near Oxford Street.       *      *      *      *It was probably her mother's mother's day. She was in such good spirits that shewearied of work, and was not in good spirits, for her brother, APhertisse, the owner of the house, who wasknown to the woman, and her mother, APhertisse, who was barely eight, all of her friends and acquaintances situated there, anda large and lively crowd of people about her who were yearlysurroundingthe place. But she did not come without one favor: the _dilapidated_ house was the place to be seen.There were poor Mrs. Wessington's friends and familiars present, and a very visible andrespecting presence was make over the dull, weary, and dying Mrs. Wessington, who was dying ofgastritis, her heart was violently beating, and her limbs were as limp as deadpeople's. The poor woman was constantly wailing and trembling, and sobbing.       *       *      *      *      *A quarter of an hour later she appeared again at the bottom of the lawn,dressed as before, her wet hair already drying into its crisp shortcurls again. There was alittle dust in her hand,and a large quantity of it foul.And when she turned her face toward thenearby window she saw again the same woman, but much frightened, expression more grave. She had not followed her brother come nor paused for a moment to light a candle. Instead of rejoicing at the unexpected visitor, she was morefaced with horror at the absence of the old, and felt at home the sense of dread that had been compounded by the absence of evil. And now, in spite of the absence ofevil, there was also a sense of joy. For the dead were gone, and the world was new and new again. A new sense of belonging and of flourishing in life was one of rejoicing and happiness were the rewards presented to those who had enjoyed so long in life.A new sense of belonging and of flourishing in life were three times as delightful a experience! For life, you know, it is well that a girl attends school in astadium filled with high school and college teams, and in spite of the fact that her team was from a very distinguished school, she was expected to dance and playforever. Well, that was _quite_ a task, and she *       *      *      *      *      *It was a girl of very impressive body, and one that we could hardly have told hadshe been a girl. Her dress was that of a young king, the sleeves rolled up, and the midsummer star slung over the shoulders. In her hand she heldletters, in her hand parchment-like, with the words, \"I grant it, my dear reader, to be signed 'V-ere-neur,' \" and in her left hand she heldletters, as if she herself had signed them. All of them had sudden, wrinkled corners, and said nothing. They were signed, literally, 'V-ere-neur.'\"And when did you get them to do that?\" asked Dear Jones.\"I don't know. I kept thinking it over, and came to the obvious solution. I said to my friend, 'Now, who is to be foundesleep?'' It would be hard to find one soul in the world that didn't want to be found empty-handed.'\"Dear Jones was an honest man, and would scorn to invent a merry jest onthe spur of the moment.\"That's where my trap is,\" said Dear Jones, \"and the more I get away at it the more I find myself in a state of continualmotion. I can't even keep a straight face. I can't tell when a letter has\n"
     ]
    }
   ],
   "source": [
    "gpt2.generate(sess, run_name = 'run4')"
   ]
  },
  {
   "cell_type": "markdown",
   "metadata": {},
   "source": [
    "Haahaha, well, some of that makes sense! Some of it even mentions ghosts! It certainly resembles the writing style of the classic ghost stories of the 18th, 19th, and early-20th century that I used to train the model. Let's do it again!"
   ]
  },
  {
   "cell_type": "code",
   "execution_count": 1,
   "metadata": {},
   "outputs": [
    {
     "ename": "NameError",
     "evalue": "name 'gpt2' is not defined",
     "output_type": "error",
     "traceback": [
      "\u001b[0;31m---------------------------------------------------------------------------\u001b[0m",
      "\u001b[0;31mNameError\u001b[0m                                 Traceback (most recent call last)",
      "\u001b[0;32m<ipython-input-1-fff2ddedbc20>\u001b[0m in \u001b[0;36m<module>\u001b[0;34m\u001b[0m\n\u001b[0;32m----> 1\u001b[0;31m \u001b[0mgpt2\u001b[0m\u001b[0;34m.\u001b[0m\u001b[0mgenerate\u001b[0m\u001b[0;34m(\u001b[0m\u001b[0msess\u001b[0m\u001b[0;34m,\u001b[0m \u001b[0mrun_name\u001b[0m \u001b[0;34m=\u001b[0m \u001b[0;34m'run4'\u001b[0m\u001b[0;34m)\u001b[0m\u001b[0;34m\u001b[0m\u001b[0;34m\u001b[0m\u001b[0m\n\u001b[0m",
      "\u001b[0;31mNameError\u001b[0m: name 'gpt2' is not defined"
     ]
    }
   ],
   "source": [
    "gpt2.generate(sess, run_name = 'run4')"
   ]
  },
  {
   "cell_type": "code",
   "execution_count": null,
   "metadata": {},
   "outputs": [],
   "source": []
  }
 ],
 "metadata": {
  "kernelspec": {
   "display_name": "Python 3",
   "language": "python",
   "name": "python3"
  },
  "language_info": {
   "codemirror_mode": {
    "name": "ipython",
    "version": 3
   },
   "file_extension": ".py",
   "mimetype": "text/x-python",
   "name": "python",
   "nbconvert_exporter": "python",
   "pygments_lexer": "ipython3",
   "version": "3.8.3"
  }
 },
 "nbformat": 4,
 "nbformat_minor": 4
}
